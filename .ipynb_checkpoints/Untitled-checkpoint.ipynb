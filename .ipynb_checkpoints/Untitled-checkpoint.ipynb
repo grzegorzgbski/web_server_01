{
 "cells": [
  {
   "cell_type": "code",
   "execution_count": 1,
   "metadata": {},
   "outputs": [
    {
     "ename": "SyntaxError",
     "evalue": "invalid syntax (<ipython-input-1-048dde4006bd>, line 53)",
     "output_type": "error",
     "traceback": [
      "\u001b[1;36m  File \u001b[1;32m\"<ipython-input-1-048dde4006bd>\"\u001b[1;36m, line \u001b[1;32m53\u001b[0m\n\u001b[1;33m    print 'Working on chunk {} of {}'.format(i, sta_file)\u001b[0m\n\u001b[1;37m                                    ^\u001b[0m\n\u001b[1;31mSyntaxError\u001b[0m\u001b[1;31m:\u001b[0m invalid syntax\n"
     ]
    }
   ],
   "source": [
    "\"\"\"\n",
    "Read in BART ETD data from files and write to SQL.\n",
    "\"\"\"\n",
    "import sqlite3\n",
    "\n",
    "import numpy as np\n",
    "import pandas as pd\n",
    "\n",
    "DATABASE = 'bart.db'\n",
    "FILES = ['plza.csv', 'mont.csv']\n",
    "\n",
    "\n",
    "def define_weekday(dt_index):\n",
    "    \"\"\"Return an array with 0's for elements of dt_series that are on a\n",
    "    weekday, 1 if a Saturday, 2 if a Sunday.\n",
    "    :param obs_time: DatetimeIndex\n",
    "    \"\"\"\n",
    "    result = np.zeros(len(dt_index))\n",
    "    weekdays = dt_index.weekday\n",
    "    result[weekdays == 5] = 1\n",
    "    result[weekdays == 6] = 2\n",
    "    return result\n",
    "\n",
    "\n",
    "def parse_data(file_name, chunksize=1E5):\n",
    "    \"\"\"Return a dataframe from csv file, with times parsed.\n",
    "    :param file_name: csv file\n",
    "    :return: DataFrame from csv file\n",
    "    \"\"\"\n",
    "    return pd.read_csv(file_name, names=['time','dest','dir','len','etd'],\n",
    "                       header=None, chunksize=chunksize)\n",
    "\n",
    "\n",
    "def time2minute_of_day(dt_index):\n",
    "    \"\"\"Return the minute of day (12:00 midnight = 0) for each time in\n",
    "    dt_series.\n",
    "    :param obs_time: DatetimeIndex\n",
    "    \"\"\"\n",
    "    return dt_index.hour * 60 + dt_index.minute\n",
    "\n",
    "\n",
    "def csv2sql(conn, files):\n",
    "    \"\"\"Read in BART ETD data from files and write that data to the SQL database\n",
    "    accessed by conn.\n",
    "    :param conn: SQL database connection\n",
    "    :param files: the files to read data from\n",
    "    \"\"\"\n",
    "    output_cols = ['dest', 'dir', 'etd', 'station', 'minute_of_day',\n",
    "                   'day_of_week']\n",
    "    conn.execute(\"DROP TABLE IF EXISTS etd\")\n",
    "    for sta_file in files:\n",
    "        for i, df in enumerate(parse_data(sta_file)):\n",
    "            print 'Working on chunk {} of {}'.format(i, sta_file)\n",
    "            dt_index = (pd.DatetimeIndex(pd.to_datetime(df['time'], unit='s'))\n",
    "                        .tz_localize('UTC')\n",
    "                        .tz_convert('US/Pacific'))\n",
    "            df['station'] = sta_file.split('.')[0]\n",
    "            df['day_of_week'] = define_weekday(dt_index)\n",
    "            df['etd'] = df['etd'].replace('Leaving', 0).dropna().astype(np.int)\n",
    "            df['minute_of_day'] = time2minute_of_day(dt_index)\n",
    "            df[output_cols].to_sql('etd', conn, index=False, if_exists='append')\n",
    "\n",
    "    conn.cursor().execute(\n",
    "        \"\"\"CREATE INDEX idx1\n",
    "        ON etd(station, dest, minute_of_day, day_of_week)\n",
    "        \"\"\"\n",
    "        )\n",
    "    conn.commit()\n",
    "    conn.close()\n",
    "\n",
    "if __name__ == '__main__':\n",
    "    conn = sqlite3.connect(DATABASE)\n",
    "    csv2sql(conn, FILES)"
   ]
  },
  {
   "cell_type": "code",
   "execution_count": null,
   "metadata": {
    "collapsed": true
   },
   "outputs": [],
   "source": []
  }
 ],
 "metadata": {
  "kernelspec": {
   "display_name": "Python [conda root]",
   "language": "python",
   "name": "conda-root-py"
  },
  "language_info": {
   "codemirror_mode": {
    "name": "ipython",
    "version": 3
   },
   "file_extension": ".py",
   "mimetype": "text/x-python",
   "name": "python",
   "nbconvert_exporter": "python",
   "pygments_lexer": "ipython3",
   "version": "3.5.2"
  }
 },
 "nbformat": 4,
 "nbformat_minor": 2
}
